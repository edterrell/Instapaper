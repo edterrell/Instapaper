{
 "cells": [
  {
   "cell_type": "markdown",
   "id": "68e47113-559c-4d5d-a8a2-078e4e4b4671",
   "metadata": {},
   "source": [
    "### Instapaper"
   ]
  },
  {
   "cell_type": "code",
   "execution_count": 7,
   "id": "cbffca9f-ecee-4142-bbc0-ba4e9d064eac",
   "metadata": {},
   "outputs": [],
   "source": [
    "import re\n",
    "# from dateutil import parser\n",
    "import pandas as pd\n",
    "# from dotenv import load_dotenv\n",
    "# import os\n",
    "\n",
    "import requests\n",
    "from bs4 import BeautifulSoup as bs\n",
    "import csv\n",
    "import time\n",
    "#time.sleep(2)"
   ]
  },
  {
   "cell_type": "code",
   "execution_count": 8,
   "id": "1d9277f7-57c3-4777-88eb-00f61efb2906",
   "metadata": {},
   "outputs": [
    {
     "data": {
      "text/plain": [
       "'/Users/edwardterrell/Desktop/Training/kindle/instapaper'"
      ]
     },
     "execution_count": 8,
     "metadata": {},
     "output_type": "execute_result"
    }
   ],
   "source": [
    "pwd"
   ]
  },
  {
   "cell_type": "raw",
   "id": "765c6275-00df-4ef8-8b6a-5d9b37d56835",
   "metadata": {},
   "source": [
    "ASIDE: identify the branch in git"
   ]
  },
  {
   "cell_type": "code",
   "execution_count": 9,
   "id": "d057f60b-aacb-4eaf-8bd2-aa9bb2f802c8",
   "metadata": {},
   "outputs": [
    {
     "name": "stdout",
     "output_type": "stream",
     "text": [
      "insta_test\n"
     ]
    }
   ],
   "source": [
    "# It prints the name of the current Git branch you’re on.\n",
    "!git rev-parse --abbrev-ref HEAD"
   ]
  },
  {
   "cell_type": "code",
   "execution_count": 10,
   "id": "61bc9b75-e80f-4409-8daf-b860bcd2801c",
   "metadata": {},
   "outputs": [
    {
     "data": {
      "text/plain": [
       "'/Users/edwardterrell/opt/anaconda3/envs/scrape/bin/python'"
      ]
     },
     "execution_count": 10,
     "metadata": {},
     "output_type": "execute_result"
    }
   ],
   "source": [
    "import sys\n",
    "sys.executable"
   ]
  },
  {
   "cell_type": "code",
   "execution_count": 11,
   "id": "e853c120-3a30-415c-abf3-f304ff8cd248",
   "metadata": {},
   "outputs": [
    {
     "name": "stdout",
     "output_type": "stream",
     "text": [
      "/Users/edwardterrell/Desktop/Training/kindle/instapaper\n"
     ]
    }
   ],
   "source": [
    "!pwd"
   ]
  },
  {
   "cell_type": "code",
   "execution_count": 12,
   "id": "7642509c-38c1-47f1-8864-a7d9d089f811",
   "metadata": {},
   "outputs": [],
   "source": [
    "# Accept the url and output the table for a state\n",
    "# url = 'https://www.instapaper.com'\n",
    "# response = requests.get(url)\n",
    "# print(response.status_code)    #200 = success\n",
    "# print(response.text[:200])   #First 200 characters of the html string\n",
    "# page = response.text \n",
    "# soup = bs(page)\n",
    "# soup"
   ]
  },
  {
   "cell_type": "code",
   "execution_count": 13,
   "id": "0bf605fd-b1a4-4a59-b4ed-62773466c6fa",
   "metadata": {},
   "outputs": [],
   "source": [
    "from selenium import webdriver\n",
    "from selenium.webdriver.common.by import By\n",
    "from selenium.webdriver.common.keys import Keys\n",
    "from selenium.webdriver.support.ui import WebDriverWait\n",
    "from selenium.webdriver.support import expected_conditions as EC\n",
    "from selenium.common.exceptions import TimeoutException"
   ]
  },
  {
   "cell_type": "code",
   "execution_count": 14,
   "id": "fb8bd615-9e9e-4cc1-9924-8bb683f7a25d",
   "metadata": {},
   "outputs": [],
   "source": [
    "from pathlib import Path\n",
    "base_path = Path.home() / \"bin\" / \"passwords\"\n",
    "with open(base_path / \"instapaper_username.txt\", \"r\") as f:\n",
    "    username = f.read().strip()\n",
    "with open(base_path / \"instapaper_password.txt\", \"r\") as f:\n",
    "    password = f.read().strip()\n",
    "\n",
    "#print(username, password)  # Just for testing"
   ]
  },
  {
   "cell_type": "code",
   "execution_count": 15,
   "id": "427c9852-d4ea-4fcf-a53f-8fee277cb86c",
   "metadata": {},
   "outputs": [
    {
     "name": "stdout",
     "output_type": "stream",
     "text": [
      "50\n"
     ]
    },
    {
     "data": {
      "text/plain": [
       "1"
      ]
     },
     "execution_count": 15,
     "metadata": {},
     "output_type": "execute_result"
    }
   ],
   "source": [
    "# Start Safari (or Chrome)\n",
    "driver = webdriver.Safari()\n",
    "\n",
    "driver.get(\"https://www.instapaper.com/user/login\")\n",
    "username_field = driver.find_element(By.ID, \"username\")\n",
    "password_field = driver.find_element(By.ID, \"password\")\n",
    "\n",
    "# Fill in login form\n",
    "username_field.send_keys(username)\n",
    "time.sleep(1)\n",
    "password_field.send_keys(password)\n",
    "password_field.send_keys(Keys.RETURN)\n",
    "\n",
    "# Wait for redirect\n",
    "time.sleep(3)\n",
    "\n",
    "def parse_url(url):\n",
    "    # Go to archive and grab links\n",
    "    driver.get(url)\n",
    "    # Instead of time.sleep(2) we use WebDriverWait\n",
    "    try:\n",
    "        WebDriverWait(driver, 10).until(\n",
    "            EC.presence_of_all_elements_located((By.CLASS_NAME, 'article_text_content'))\n",
    "        )\n",
    "        html = driver.page_source\n",
    "    except TimeoutException:\n",
    "        print(\"Timeout: The page didn't load the expcted content.\")\n",
    "    \n",
    "    # Now we are in the beautiful soup world\n",
    "    soup = bs(html, \"html.parser\")\n",
    "    links = [a['href'] for a in soup.find_all('a', href=True)]  \n",
    "    clean_links = [link for link in links if link.startswith(\"http\")]\n",
    "    return clean_links, soup  # <-- this was missing earlier\n",
    "\n",
    "# assign the function's return variables to be used out of scope\n",
    "url = \"https://www.instapaper.com/archive\"\n",
    "clean_links, soup = parse_url(url)   \n",
    "\n",
    "driver.quit()\n",
    "# \n",
    "print(len(clean_links))\n",
    "len(soup)"
   ]
  },
  {
   "cell_type": "code",
   "execution_count": 16,
   "id": "ff283578-1307-4f1c-b373-417ec9b7ffac",
   "metadata": {},
   "outputs": [],
   "source": [
    "# ??preview = preview_div.text.strip()\n"
   ]
  },
  {
   "cell_type": "code",
   "execution_count": 17,
   "id": "7f6bd069-aaf5-44b3-99b6-35bd4e534580",
   "metadata": {},
   "outputs": [],
   "source": [
    "# This creates a file: 'all_soup.html'\n",
    "# by opening this file in terminal, a browser window opens which you can inspect as if it were live\n",
    "with open(\"all_soup.html\", \"w\", encoding=\"utf-8\") as f:\n",
    "    f.write(soup.prettify())"
   ]
  },
  {
   "cell_type": "code",
   "execution_count": 18,
   "id": "bf59e840-4952-4ff8-b1ed-042431e6c098",
   "metadata": {},
   "outputs": [],
   "source": [
    "# Generates a txt file with urls - one per line\n",
    "# FILENAME: filtered_links.txt\n",
    "\n",
    "import csv\n",
    "\n",
    "# instapaper_clean_links is a temp file; only to create filtered_links(the variable)\n",
    "with open(\"instapaper_clean_links.csv\", \"w\", newline=\"\", encoding=\"utf-8\") as f:\n",
    "    writer = csv.writer(f)\n",
    "    writer.writerow([\"URL\"])\n",
    "    for url in clean_links:\n",
    "        writer.writerow([url])  # wrap url in a list!\n",
    "\n",
    "# Filter out links containing \"instapaper\" or \"ads/click\"\n",
    "filtered_links = [\n",
    "    url for url in clean_links\n",
    "    if 'instapaper' not in url and 'ads/click' not in url\n",
    "]\n",
    "\n",
    "# Save to a plain text file, one URL per line\n",
    "with open(\"filtered_links.txt\", \"w\", encoding=\"utf-8\") as f:\n",
    "    for url in filtered_links:\n",
    "        f.write(url + \"\\n\")"
   ]
  },
  {
   "cell_type": "code",
   "execution_count": 19,
   "id": "faf9a50b-9c26-4dc4-90e5-092c01f1d0ef",
   "metadata": {},
   "outputs": [],
   "source": [
    "# Convert plain text URLs to a clickable HTML file:\n",
    "# FILENAME: clickable_links.html\n",
    "\n",
    "# Open the input file with your filtered links\n",
    "with open(\"filtered_links.txt\", \"r\") as infile:\n",
    "    urls = [line.strip() for line in infile if line.strip()]\n",
    "\n",
    "# Create an HTML file with clickable links\n",
    "with open(\"clickable_links.html\", \"w\") as outfile:\n",
    "    outfile.write(\"<!DOCTYPE html>\\n<html>\\n<body>\\n<h2>Clickable Links</h2>\\n<ul>\\n\")\n",
    "    for url in urls:\n",
    "        outfile.write(f'  <li><a href=\"{url}\" target=\"_blank\">{url}</a></li>\\n')\n",
    "    outfile.write(\"</ul>\\n</body>\\n</html>\")\n"
   ]
  },
  {
   "cell_type": "markdown",
   "id": "0fb09ce2-df22-4813-bfe6-d540325fd10b",
   "metadata": {},
   "source": [
    "### links only program ends here"
   ]
  },
  {
   "cell_type": "code",
   "execution_count": null,
   "id": "0fb38ce2-8fdf-43cf-b3c5-797396dd0bba",
   "metadata": {},
   "outputs": [],
   "source": []
  },
  {
   "cell_type": "code",
   "execution_count": 20,
   "id": "39517036-2313-4897-a5a1-ff9bac19bbef",
   "metadata": {},
   "outputs": [
    {
     "data": {
      "text/plain": [
       "'https://www.instapaper.com/archive/2'"
      ]
     },
     "execution_count": 20,
     "metadata": {},
     "output_type": "execute_result"
    }
   ],
   "source": [
    "archive_link = soup.find('a', class_='paginate_older')['href']\n",
    "archive_link"
   ]
  },
  {
   "cell_type": "markdown",
   "id": "ccb5619e-1993-4696-bae1-8891262da828",
   "metadata": {},
   "source": [
    "### titles,previews,urls for df2"
   ]
  },
  {
   "cell_type": "code",
   "execution_count": 21,
   "id": "795aad5c-8193-4b83-b652-3482851968bb",
   "metadata": {},
   "outputs": [],
   "source": [
    "# titles only\n",
    "titles= [title.text.strip().replace('\\xa0',' ') for title in soup.find_all('a', class_='article_title')]\n",
    "# previews only\n",
    "previews = [prev.text.strip().replace('\\xa0',' ') for prev in soup.find_all('div', class_='article_preview')]\n",
    "# url links only\n",
    "url_links = [link['href'] for link in soup.find_all('a', class_='js_domain_linkout')]"
   ]
  },
  {
   "cell_type": "code",
   "execution_count": 22,
   "id": "43272419-62c6-4f05-9b61-3747cd584244",
   "metadata": {},
   "outputs": [
    {
     "data": {
      "text/plain": [
       "40"
      ]
     },
     "execution_count": 22,
     "metadata": {},
     "output_type": "execute_result"
    }
   ],
   "source": [
    "# these are clickable links\n",
    "len(url_links)"
   ]
  },
  {
   "cell_type": "code",
   "execution_count": 23,
   "id": "790a191f-5491-4408-a36f-f08676e2e51e",
   "metadata": {},
   "outputs": [
    {
     "data": {
      "text/html": [
       "<div>\n",
       "<style scoped>\n",
       "    .dataframe tbody tr th:only-of-type {\n",
       "        vertical-align: middle;\n",
       "    }\n",
       "\n",
       "    .dataframe tbody tr th {\n",
       "        vertical-align: top;\n",
       "    }\n",
       "\n",
       "    .dataframe thead th {\n",
       "        text-align: right;\n",
       "    }\n",
       "</style>\n",
       "<table border=\"1\" class=\"dataframe\">\n",
       "  <thead>\n",
       "    <tr style=\"text-align: right;\">\n",
       "      <th></th>\n",
       "      <th>Title</th>\n",
       "      <th>Link</th>\n",
       "      <th>Preview</th>\n",
       "    </tr>\n",
       "  </thead>\n",
       "  <tbody>\n",
       "    <tr>\n",
       "      <th>0</th>\n",
       "      <td>Paradox Articles and Information</td>\n",
       "      <td>http://neohumanism.org/p/pa/paradox.html</td>\n",
       "      <td></td>\n",
       "    </tr>\n",
       "    <tr>\n",
       "      <th>1</th>\n",
       "      <td>Goedel's Theorem and Information</td>\n",
       "      <td>http://www.cs.auckland.ac.nz/~chaitin/georgia....</td>\n",
       "      <td>Gödel's Theorem and Information International ...</td>\n",
       "    </tr>\n",
       "    <tr>\n",
       "      <th>2</th>\n",
       "      <td>John von Neumann’s The Computer and the Brain</td>\n",
       "      <td>http://www.leydesdorff.net/vonneumann/</td>\n",
       "      <td>return The Code of Mathematics John von Neuman...</td>\n",
       "    </tr>\n",
       "    <tr>\n",
       "      <th>3</th>\n",
       "      <td>US wealth gap between young and old is widest ...</td>\n",
       "      <td>http://news.yahoo.com/us-wealth-gap-between-yo...</td>\n",
       "      <td>Our team is dedicated to finding and telling y...</td>\n",
       "    </tr>\n",
       "    <tr>\n",
       "      <th>4</th>\n",
       "      <td>Computing Machinery and Intelligence A.M. Turing</td>\n",
       "      <td>http://www.loebner.net/Prizef/TuringArticle.html</td>\n",
       "      <td>Latest News Influencer Marketing The Advantage...</td>\n",
       "    </tr>\n",
       "  </tbody>\n",
       "</table>\n",
       "</div>"
      ],
      "text/plain": [
       "                                               Title  \\\n",
       "0                   Paradox Articles and Information   \n",
       "1                   Goedel's Theorem and Information   \n",
       "2      John von Neumann’s The Computer and the Brain   \n",
       "3  US wealth gap between young and old is widest ...   \n",
       "4   Computing Machinery and Intelligence A.M. Turing   \n",
       "\n",
       "                                                Link  \\\n",
       "0           http://neohumanism.org/p/pa/paradox.html   \n",
       "1  http://www.cs.auckland.ac.nz/~chaitin/georgia....   \n",
       "2             http://www.leydesdorff.net/vonneumann/   \n",
       "3  http://news.yahoo.com/us-wealth-gap-between-yo...   \n",
       "4   http://www.loebner.net/Prizef/TuringArticle.html   \n",
       "\n",
       "                                             Preview  \n",
       "0                                                     \n",
       "1  Gödel's Theorem and Information International ...  \n",
       "2  return The Code of Mathematics John von Neuman...  \n",
       "3  Our team is dedicated to finding and telling y...  \n",
       "4  Latest News Influencer Marketing The Advantage...  "
      ]
     },
     "execution_count": 23,
     "metadata": {},
     "output_type": "execute_result"
    }
   ],
   "source": [
    "df2 = pd.DataFrame({'Title':titles,'Link':url_links,'Preview':previews})\n",
    "df2.head()"
   ]
  },
  {
   "cell_type": "code",
   "execution_count": 24,
   "id": "4b465d32-5337-4baa-b58c-b345a96e5ecd",
   "metadata": {},
   "outputs": [],
   "source": [
    "article_links = []\n",
    "\n",
    "# Loop through all article title elements\n",
    "# A less convulted approach might be to use three for loops above\n",
    "\n",
    "for title_tag in soup.find_all('a', class_='article_title'):\n",
    "    title = title_tag.text.strip().replace('\\xa0', ' ')\n",
    "    \n",
    "    # Look for the title's parent parent div\n",
    "    title_div = title_tag.parent.parent\n",
    "    link_div = title_div.find_next_sibling('div')  # skips whitespace, finds actual div\n",
    "    preview_div = link_div.find_next_sibling('div')\n",
    "    preview = preview_div.text.strip()\n",
    "\n",
    "    url = link_div.find('a')['href']\n",
    "    article_links.append((title, url, preview))\n",
    "    #print(preview)"
   ]
  },
  {
   "cell_type": "code",
   "execution_count": 25,
   "id": "5f447809-7100-431d-b60d-524799d96feb",
   "metadata": {},
   "outputs": [],
   "source": [
    "# article_links"
   ]
  },
  {
   "cell_type": "code",
   "execution_count": 26,
   "id": "38ff219f-a1bf-462d-a5b0-b5f298010e8a",
   "metadata": {},
   "outputs": [],
   "source": [
    "# Creates a csv file of the results\n",
    "with open(\"instapaper_articles.csv\", \"w\", newline=\"\", encoding=\"utf-8\") as f:\n",
    "    writer = csv.writer(f)\n",
    "    writer.writerow([\"Title\", \"URL\", \"Preview\"])\n",
    "    writer.writerows(article_links)"
   ]
  },
  {
   "cell_type": "code",
   "execution_count": 27,
   "id": "81049577-df8d-4ce6-bd94-9272b8097290",
   "metadata": {},
   "outputs": [
    {
     "data": {
      "text/html": [
       "<div>\n",
       "<style scoped>\n",
       "    .dataframe tbody tr th:only-of-type {\n",
       "        vertical-align: middle;\n",
       "    }\n",
       "\n",
       "    .dataframe tbody tr th {\n",
       "        vertical-align: top;\n",
       "    }\n",
       "\n",
       "    .dataframe thead th {\n",
       "        text-align: right;\n",
       "    }\n",
       "</style>\n",
       "<table border=\"1\" class=\"dataframe\">\n",
       "  <thead>\n",
       "    <tr style=\"text-align: right;\">\n",
       "      <th></th>\n",
       "      <th>Title</th>\n",
       "      <th>URL</th>\n",
       "      <th>Preview</th>\n",
       "    </tr>\n",
       "  </thead>\n",
       "  <tbody>\n",
       "    <tr>\n",
       "      <th>0</th>\n",
       "      <td>Paradox Articles and Information</td>\n",
       "      <td>http://neohumanism.org/p/pa/paradox.html</td>\n",
       "      <td></td>\n",
       "    </tr>\n",
       "    <tr>\n",
       "      <th>1</th>\n",
       "      <td>Goedel's Theorem and Information</td>\n",
       "      <td>http://www.cs.auckland.ac.nz/~chaitin/georgia....</td>\n",
       "      <td>Gödel's Theorem and Information International ...</td>\n",
       "    </tr>\n",
       "    <tr>\n",
       "      <th>2</th>\n",
       "      <td>John von Neumann’s The Computer and the Brain</td>\n",
       "      <td>http://www.leydesdorff.net/vonneumann/</td>\n",
       "      <td>return The Code of Mathematics John von Neuman...</td>\n",
       "    </tr>\n",
       "    <tr>\n",
       "      <th>3</th>\n",
       "      <td>US wealth gap between young and old is widest ...</td>\n",
       "      <td>http://news.yahoo.com/us-wealth-gap-between-yo...</td>\n",
       "      <td>Our team is dedicated to finding and telling y...</td>\n",
       "    </tr>\n",
       "    <tr>\n",
       "      <th>4</th>\n",
       "      <td>Computing Machinery and Intelligence A.M. Turing</td>\n",
       "      <td>http://www.loebner.net/Prizef/TuringArticle.html</td>\n",
       "      <td>Latest News Influencer Marketing The Advantage...</td>\n",
       "    </tr>\n",
       "  </tbody>\n",
       "</table>\n",
       "</div>"
      ],
      "text/plain": [
       "                                               Title  \\\n",
       "0                   Paradox Articles and Information   \n",
       "1                   Goedel's Theorem and Information   \n",
       "2      John von Neumann’s The Computer and the Brain   \n",
       "3  US wealth gap between young and old is widest ...   \n",
       "4   Computing Machinery and Intelligence A.M. Turing   \n",
       "\n",
       "                                                 URL  \\\n",
       "0           http://neohumanism.org/p/pa/paradox.html   \n",
       "1  http://www.cs.auckland.ac.nz/~chaitin/georgia....   \n",
       "2             http://www.leydesdorff.net/vonneumann/   \n",
       "3  http://news.yahoo.com/us-wealth-gap-between-yo...   \n",
       "4   http://www.loebner.net/Prizef/TuringArticle.html   \n",
       "\n",
       "                                             Preview  \n",
       "0                                                     \n",
       "1  Gödel's Theorem and Information International ...  \n",
       "2  return The Code of Mathematics John von Neuman...  \n",
       "3  Our team is dedicated to finding and telling y...  \n",
       "4  Latest News Influencer Marketing The Advantage...  "
      ]
     },
     "execution_count": 27,
     "metadata": {},
     "output_type": "execute_result"
    }
   ],
   "source": [
    "# Pandas version\n",
    "df = pd.read_csv('instapaper_articles.csv',na_filter=False)\n",
    "df.head()"
   ]
  },
  {
   "cell_type": "code",
   "execution_count": 56,
   "id": "824957a3-c2b8-4e78-b267-4617e2abad3e",
   "metadata": {},
   "outputs": [
    {
     "data": {
      "text/plain": [
       "\"Gödel's Theorem and Information International Journal of Theoretical Physics 21 (1982), pp.941-954 Gregory J. Chaitin IBM Research, P.O. Box 218 Yorktown Heights, New York 10598 Abstract Gödel's theorem may be demonstrated using arguments having aninformation-theoretic flavor. In such an approach it is possibleto argue that if a theorem contains more information than a givenset of axioms, then it…\""
      ]
     },
     "execution_count": 56,
     "metadata": {},
     "output_type": "execute_result"
    }
   ],
   "source": [
    "df.iloc[1,2]"
   ]
  },
  {
   "cell_type": "code",
   "execution_count": 28,
   "id": "7fc4deef-ed12-44a2-9b6b-2ce94712e9c9",
   "metadata": {},
   "outputs": [],
   "source": [
    "from urllib.parse import urlparse\n",
    "# Read the CSV and avoid NaN\n",
    "df = pd.read_csv(\"instapaper_articles.csv\", na_filter=False)"
   ]
  },
  {
   "cell_type": "markdown",
   "id": "4981a276-b4ff-4fb7-bd3a-cb73e6dacbfb",
   "metadata": {},
   "source": [
    "### Store in an html file for web viewing and clickable links"
   ]
  },
  {
   "cell_type": "code",
   "execution_count": 29,
   "id": "5c0ea6b3-3704-4543-8a0a-cc20a8a2b96f",
   "metadata": {},
   "outputs": [
    {
     "data": {
      "text/plain": [
       "0             http://neohumanism.org/p/pa/paradox.html\n",
       "1    http://www.cs.auckland.ac.nz/~chaitin/georgia....\n",
       "2               http://www.leydesdorff.net/vonneumann/\n",
       "3    http://news.yahoo.com/us-wealth-gap-between-yo...\n",
       "4     http://www.loebner.net/Prizef/TuringArticle.html\n",
       "Name: URL, dtype: object"
      ]
     },
     "execution_count": 29,
     "metadata": {},
     "output_type": "execute_result"
    }
   ],
   "source": [
    "df.URL.head()"
   ]
  },
  {
   "cell_type": "code",
   "execution_count": 30,
   "id": "85746385-0aa5-4c7e-92b3-f547c46ee0ed",
   "metadata": {},
   "outputs": [],
   "source": [
    "# Convert URL column to clickable HTML links\n",
    "# df['URL'] = df['URL'].apply(lambda x: f'<a href=\"{x}\" target=\"_blank\">{x}</a>')\n",
    "\n",
    "df['URL'] = df['URL'].apply(\n",
    "    lambda x: f'<a href=\"{x}\" target=\"_blank\">{urlparse(x).netloc}</a>'\n",
    ")"
   ]
  },
  {
   "cell_type": "code",
   "execution_count": 33,
   "id": "75ceefbd-3abd-4e0f-9870-cf2cb84a71ea",
   "metadata": {},
   "outputs": [
    {
     "data": {
      "text/html": [
       "<div>\n",
       "<style scoped>\n",
       "    .dataframe tbody tr th:only-of-type {\n",
       "        vertical-align: middle;\n",
       "    }\n",
       "\n",
       "    .dataframe tbody tr th {\n",
       "        vertical-align: top;\n",
       "    }\n",
       "\n",
       "    .dataframe thead th {\n",
       "        text-align: right;\n",
       "    }\n",
       "</style>\n",
       "<table border=\"1\" class=\"dataframe\">\n",
       "  <thead>\n",
       "    <tr style=\"text-align: right;\">\n",
       "      <th></th>\n",
       "      <th>Title</th>\n",
       "      <th>URL</th>\n",
       "      <th>Preview</th>\n",
       "    </tr>\n",
       "  </thead>\n",
       "  <tbody>\n",
       "    <tr>\n",
       "      <th>0</th>\n",
       "      <td>Paradox Articles and Information</td>\n",
       "      <td>&lt;a href=\"http://neohumanism.org/p/pa/paradox.h...</td>\n",
       "      <td></td>\n",
       "    </tr>\n",
       "    <tr>\n",
       "      <th>1</th>\n",
       "      <td>Goedel's Theorem and Information</td>\n",
       "      <td>&lt;a href=\"http://www.cs.auckland.ac.nz/~chaitin...</td>\n",
       "      <td>Gödel's Theorem and Information International ...</td>\n",
       "    </tr>\n",
       "    <tr>\n",
       "      <th>2</th>\n",
       "      <td>John von Neumann’s The Computer and the Brain</td>\n",
       "      <td>&lt;a href=\"http://www.leydesdorff.net/vonneumann...</td>\n",
       "      <td>return The Code of Mathematics John von Neuman...</td>\n",
       "    </tr>\n",
       "    <tr>\n",
       "      <th>3</th>\n",
       "      <td>US wealth gap between young and old is widest ...</td>\n",
       "      <td>&lt;a href=\"http://news.yahoo.com/us-wealth-gap-b...</td>\n",
       "      <td>Our team is dedicated to finding and telling y...</td>\n",
       "    </tr>\n",
       "    <tr>\n",
       "      <th>4</th>\n",
       "      <td>Computing Machinery and Intelligence A.M. Turing</td>\n",
       "      <td>&lt;a href=\"http://www.loebner.net/Prizef/TuringA...</td>\n",
       "      <td>Latest News Influencer Marketing The Advantage...</td>\n",
       "    </tr>\n",
       "  </tbody>\n",
       "</table>\n",
       "</div>"
      ],
      "text/plain": [
       "                                               Title  \\\n",
       "0                   Paradox Articles and Information   \n",
       "1                   Goedel's Theorem and Information   \n",
       "2      John von Neumann’s The Computer and the Brain   \n",
       "3  US wealth gap between young and old is widest ...   \n",
       "4   Computing Machinery and Intelligence A.M. Turing   \n",
       "\n",
       "                                                 URL  \\\n",
       "0  <a href=\"http://neohumanism.org/p/pa/paradox.h...   \n",
       "1  <a href=\"http://www.cs.auckland.ac.nz/~chaitin...   \n",
       "2  <a href=\"http://www.leydesdorff.net/vonneumann...   \n",
       "3  <a href=\"http://news.yahoo.com/us-wealth-gap-b...   \n",
       "4  <a href=\"http://www.loebner.net/Prizef/TuringA...   \n",
       "\n",
       "                                             Preview  \n",
       "0                                                     \n",
       "1  Gödel's Theorem and Information International ...  \n",
       "2  return The Code of Mathematics John von Neuman...  \n",
       "3  Our team is dedicated to finding and telling y...  \n",
       "4  Latest News Influencer Marketing The Advantage...  "
      ]
     },
     "execution_count": 33,
     "metadata": {},
     "output_type": "execute_result"
    }
   ],
   "source": [
    "df.head()"
   ]
  },
  {
   "cell_type": "code",
   "execution_count": 32,
   "id": "90144061-212f-4e5c-ab9d-3d2217af1752",
   "metadata": {},
   "outputs": [],
   "source": [
    "# Export to HTML\n",
    "df.to_html(\"Final_clickable_links.html\", escape=False, index=False)"
   ]
  },
  {
   "cell_type": "raw",
   "id": "730e1ee7-0528-4ef3-b19a-8a6260caa5f8",
   "metadata": {},
   "source": [
    "Browsers don’t always trust the file’s encoding metadata. You need to embed this inside the HTML. \n",
    "The below solved the problem with corrupted endings in preview"
   ]
  },
  {
   "cell_type": "code",
   "execution_count": null,
   "id": "02f67c9e-58cf-49bf-a3f2-9d4deae6579d",
   "metadata": {},
   "outputs": [],
   "source": [
    "# Export to HTML\n",
    "html_table = df.to_html(escape=False, index=False)\n",
    "\n",
    "html_full = f\"\"\"<!DOCTYPE html>\n",
    "<html>\n",
    "<head>\n",
    "    <meta charset=\"utf-8\">\n",
    "    <title>Exported Table</title>\n",
    "</head>\n",
    "<body>\n",
    "{html_table}\n",
    "</body>\n",
    "</html>\n",
    "\"\"\"\n",
    "\n",
    "with open(\"article_listing.html\", \"w\", encoding=\"utf-8\") as f:\n",
    "    f.write(html_full)\n"
   ]
  },
  {
   "cell_type": "markdown",
   "id": "41064cee-cbf9-4dc3-9311-d7ad8af59957",
   "metadata": {},
   "source": [
    "### Info on datetime"
   ]
  },
  {
   "cell_type": "code",
   "execution_count": 131,
   "id": "093a6a53-38c2-40ea-8d4e-3b2b3e086f3a",
   "metadata": {},
   "outputs": [
    {
     "name": "stdout",
     "output_type": "stream",
     "text": [
      "2025-06-01 14:30:00\n"
     ]
    },
    {
     "data": {
      "text/plain": [
       "datetime.datetime(2025, 6, 1, 14, 30)"
      ]
     },
     "execution_count": 131,
     "metadata": {},
     "output_type": "execute_result"
    }
   ],
   "source": [
    "import dateutil.parser \n",
    "from dateutil import parser\n",
    "# MORE FORGIVING\n",
    "# date_admitted = dateutil.parser.parse(date_admitted_str)\n",
    "dt = parser.parse(\"June 1st, 2025 2:30 PM\")\n",
    "print(dt)\n",
    "dt"
   ]
  },
  {
   "cell_type": "code",
   "execution_count": 135,
   "id": "1b62fc2b-b960-4f76-81e9-83998437daed",
   "metadata": {},
   "outputs": [
    {
     "data": {
      "text/plain": [
       "2025"
      ]
     },
     "execution_count": 135,
     "metadata": {},
     "output_type": "execute_result"
    }
   ],
   "source": [
    "# MUST KNOW the expected format\n",
    "from datetime import datetime\n",
    "date_str = \"June 1, 2025\"\n",
    "dt_date = datetime.strptime(date_str, \"%B %d, %Y\")\n",
    "dt_date.year"
   ]
  },
  {
   "cell_type": "code",
   "execution_count": null,
   "id": "b40fed25-0bf1-41d8-949d-7e13ce146ebf",
   "metadata": {},
   "outputs": [],
   "source": [
    "soup.find_all('div',class_ ='title_meta')\n",
    "\n",
    "soup.find_all(class_ ='title_meta')\n",
    "\n",
    "soup.find_all('a',class_='js_domain_linkout')\n",
    "\n",
    "today_links = [link['href'] for link in today_div.find_all('a')]"
   ]
  },
  {
   "cell_type": "code",
   "execution_count": null,
   "id": "07d58e85-0363-45c3-b320-b42e2e586a9b",
   "metadata": {},
   "outputs": [],
   "source": []
  },
  {
   "cell_type": "markdown",
   "id": "1700b253-fee6-4a52-b881-1463c2b11f44",
   "metadata": {},
   "source": [
    "### Using regex and the DOM"
   ]
  },
  {
   "cell_type": "code",
   "execution_count": null,
   "id": "a9dd90e9-f3aa-4af1-8605-425392df4b4f",
   "metadata": {},
   "outputs": [],
   "source": [
    "adm = re.compile('Admitted')\n",
    "soup.find(text=adm)\n",
    "# This looks like a string, but it's actually a BeautifulSoup element.\n",
    "# type(soup.find(text=regex))\n",
    "# bs4.element.NavigableString"
   ]
  },
  {
   "cell_type": "raw",
   "id": "0c14907f-4f77-44aa-8471-e57735a605e8",
   "metadata": {},
   "source": [
    "For some cases it's much easier to find one element and then move up, down, or sideways within the DOM.  BeautifulSoup also allows you to look for .parent, .children, .next_sibling, .previous_sibling, etc.\n",
    "Any \"plural\" attribute such as children or siblings will return a generator. Just loop over the result or convert it to a list."
   ]
  },
  {
   "cell_type": "code",
   "execution_count": null,
   "id": "b57d791a-7b97-4d88-8bb7-09094942f684",
   "metadata": {},
   "outputs": [],
   "source": [
    "adm.next.text\n",
    "adm.parent"
   ]
  },
  {
   "cell_type": "code",
   "execution_count": null,
   "id": "3a9549d5-0b43-4296-b6cb-0cea56952f4c",
   "metadata": {},
   "outputs": [],
   "source": [
    "def to_date(date_str):\n",
    "    date_str = re.match('[\\w]+\\s[\\d,\\s]+', date_str)[0]\n",
    "    return dateutil.parser.parse(date_str)\n",
    "\n",
    "def to_int(number_str):\n",
    "    number_str = re.match('[\\d,$]+', number_str)[0]\n",
    "    number_str = number_str.replace('$', '').replace(',', '')\n",
    "    return int(number_str)"
   ]
  },
  {
   "cell_type": "code",
   "execution_count": null,
   "id": "efc5f2be-e488-4a5d-86e3-2fb20e5b0ed4",
   "metadata": {},
   "outputs": [],
   "source": [
    "re.match('[\\d,$]+', area_text)[0]"
   ]
  },
  {
   "cell_type": "code",
   "execution_count": null,
   "id": "19ae210e-4cb8-4b2e-9022-32406b7b2b22",
   "metadata": {},
   "outputs": [],
   "source": [
    "### Plan the structure of what your going to save and how"
   ]
  },
  {
   "cell_type": "code",
   "execution_count": null,
   "id": "617ad28f-f4a4-442f-b3d4-cc7bc36a9364",
   "metadata": {},
   "outputs": [],
   "source": [
    "penn_dict = {\n",
    "    'state': state,\n",
    "    'date_admitted': date_admitted,\n",
    "    'population': population,\n",
    "    'area_sq_mi': area\n",
    "}"
   ]
  },
  {
   "cell_type": "code",
   "execution_count": null,
   "id": "affc6d1f-9f5d-4633-9075-1d7d9c0e8518",
   "metadata": {},
   "outputs": [],
   "source": [
    "penn_info = [penn_dict]\n",
    "penn_df = pd.DataFrame(penn_info)\n",
    "penn_df"
   ]
  },
  {
   "cell_type": "code",
   "execution_count": null,
   "id": "f879baf2-0ee2-479e-b5d9-75cd2f5349ee",
   "metadata": {},
   "outputs": [],
   "source": [
    "penn_df.to_csv('Penn_State_Information.csv')"
   ]
  },
  {
   "cell_type": "code",
   "execution_count": null,
   "id": "ce3a7a1a-c1a7-45dd-9cfe-90575b38059f",
   "metadata": {},
   "outputs": [],
   "source": [
    "# to add a col to a df\n",
    "penn_df['median_income'] = m"
   ]
  },
  {
   "cell_type": "markdown",
   "id": "88016c59-599c-4e07-b28b-40d572cb2490",
   "metadata": {},
   "source": [
    "### save as functions so that they can be reused"
   ]
  },
  {
   "cell_type": "code",
   "execution_count": null,
   "id": "757b4237-a95a-4253-bd43-ac871c27aaea",
   "metadata": {},
   "outputs": [],
   "source": [
    "# Accept the url and output the table for a state\n",
    "ny_url = 'https://en.wikipedia.org/wiki/New_York_(state)'\n",
    "ny_page = requests.get(ny_url).text\n",
    "ny_soup = bs(ny_page)\n",
    "\n",
    "ny_table = ny_soup.find('table')\n",
    "#ny_table"
   ]
  },
  {
   "cell_type": "code",
   "execution_count": null,
   "id": "a66243a6-9c54-4c10-8956-ba08b5c5ff5d",
   "metadata": {},
   "outputs": [],
   "source": []
  },
  {
   "cell_type": "markdown",
   "id": "1c9413df-361b-4d1c-9248-e96bbbe734d9",
   "metadata": {},
   "source": [
    "### Data Storaage"
   ]
  },
  {
   "cell_type": "raw",
   "id": "ec273ec8-f5c1-4a3a-9b19-b7b2828390b8",
   "metadata": {},
   "source": [
    "Consider using the Feather format (provided by the feather library) \n",
    "for saving DataFrames with mixed data types, as it is designed for efficient storage and retrieval of such data."
   ]
  },
  {
   "cell_type": "code",
   "execution_count": null,
   "id": "48e5d478-8759-4ae1-b892-f45953329c31",
   "metadata": {},
   "outputs": [],
   "source": [
    "df.to_csv('temp',index=False)\n",
    "df.to_excel(\"data.xlsx\", index=False)\n",
    "\n",
    "df.to_hdf(\"data.h5\", key=\"my_data\", mode=\"w\" )\n",
    "\n",
    "import sqlite3\n",
    "conn = sqlite3.connect(\"temp.db\")\n",
    "df.to_sql(\"my_table\", conn, if_exists=\"replace\", index=False)\n",
    "\n",
    "import pickle\n",
    "with open(\"temp.pkl\", \"wb\") as file:\n",
    "    pickle.dump(df, file)\n",
    "\n",
    "# Feather is a lightweight and fast binary columnar storage format\n",
    "import feather\n",
    "feather.write_dataframe(df, \"temp.feather\")"
   ]
  },
  {
   "cell_type": "markdown",
   "id": "a1407a06-4ad0-47b4-826b-d81140707e8b",
   "metadata": {},
   "source": [
    "### Other"
   ]
  },
  {
   "cell_type": "code",
   "execution_count": 35,
   "id": "0cc4f9a7-8ff1-451d-b160-d99bf1244ae5",
   "metadata": {},
   "outputs": [
    {
     "name": "stdout",
     "output_type": "stream",
     "text": [
      "['https://www.iana.org/domains/example']\n"
     ]
    }
   ],
   "source": [
    "# Example of basic login script with selenium\n",
    "from selenium import webdriver\n",
    "\n",
    "# This uses the system SafariDriver\n",
    "driver = webdriver.Safari()\n",
    "\n",
    "driver.get(\"https://example.com\")\n",
    "html = driver.page_source\n",
    "\n",
    "# You can use BeautifulSoup here if needed\n",
    "from bs4 import BeautifulSoup\n",
    "soup = BeautifulSoup(html, \"html.parser\")\n",
    "links = [a['href'] for a in soup.find_all('a', href=True)]\n",
    "\n",
    "print(links)\n"
   ]
  },
  {
   "cell_type": "code",
   "execution_count": null,
   "id": "4a050ce6-33ce-4a2a-966f-a461da00b2c4",
   "metadata": {},
   "outputs": [],
   "source": []
  }
 ],
 "metadata": {
  "kernelspec": {
   "display_name": "Python 3",
   "language": "python",
   "name": "python3"
  },
  "language_info": {
   "codemirror_mode": {
    "name": "ipython",
    "version": 3
   },
   "file_extension": ".py",
   "mimetype": "text/x-python",
   "name": "python",
   "nbconvert_exporter": "python",
   "pygments_lexer": "ipython3",
   "version": "3.8.8"
  }
 },
 "nbformat": 4,
 "nbformat_minor": 5
}
